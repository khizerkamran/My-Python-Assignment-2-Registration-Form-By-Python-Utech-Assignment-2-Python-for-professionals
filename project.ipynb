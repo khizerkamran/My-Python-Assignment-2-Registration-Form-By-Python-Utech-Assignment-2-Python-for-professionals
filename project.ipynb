{
 "cells": [
  {
   "cell_type": "code",
   "execution_count": 98,
   "id": "e9d85e33",
   "metadata": {},
   "outputs": [
    {
     "name": "stdout",
     "output_type": "stream",
     "text": [
      "Accepted\n"
     ]
    }
   ],
   "source": [
    "from tkinter import *\n",
    "root=Tk()\n",
    "root.geometry(\"500x300\")\n",
    "\n",
    "def getvals():\n",
    "    print('Accepted')\n",
    "    Label(root,text=\"Accepted\",font=\"ar 12 bold\",fg='red',bg='black').grid(row=8,column=3)\n",
    "    \n",
    "root.configure(bg='black')\n",
    "Label(root,text=\"Python Registration Form\",font=\"ar 18 bold\",fg='red',bg='black').grid(row=0,column=3)\n",
    "name=Label(root,text='Name:',font=\"ar 15 bold\",fg='red',bg='black')\n",
    "phone=Label(root,text='Phone:',font=\"ar 15 bold\",fg='red',bg='black')\n",
    "gender=Label(root,text='Gender:',font=\"ar 15 bold\",fg='red',bg='black')\n",
    "paymentmood=Label(root,text='Paymentmood:',font=\"ar 15 bold\",fg='red',bg='black')\n",
    "emergency=Label(root,text='Emergency:',font=\"ar 15 bold\",fg='red',bg='black')\n",
    "name.grid(row=1,column=2)\n",
    "phone.grid(row=2,column=2)\n",
    "gender.grid(row=3,column=2)\n",
    "paymentmood.grid(row=4,column=2)\n",
    "emergency.grid(row=5,column=2)\n",
    "namevalue=StringVar\n",
    "phonevalue=StringVar\n",
    "gendervalue=StringVar\n",
    "paymentmoodvalue=StringVar\n",
    "emergencyvalue=StringVar\n",
    "checkvalue=IntVar\n",
    "nameentry=Entry(root,textvariable=namevalue,bg='grey',fg='red',font=\"ar 11 bold\")\n",
    "phoneentry=Entry(root,textvariable=phonevalue,bg='grey',fg='red',font=\"ar 11 bold\")\n",
    "genderentry=Entry(root,textvariable=gendervalue,bg='grey',fg='red',font=\"ar 11 bold\")\n",
    "paymentmoodentry=Entry(root,textvariable=paymentmoodvalue,bg='grey',fg='red',font=\"ar 11 bold\")\n",
    "emergencyentry=Entry(root,textvariable=emergencyvalue,bg='grey',fg='red',font=\"ar 11 bold\")\n",
    "\n",
    "nameentry.grid(row=1,column=3)\n",
    "phoneentry.grid(row=2,column=3)\n",
    "genderentry.grid(row=3,column=3)\n",
    "paymentmoodentry.grid(row=4,column=3)\n",
    "emergencyentry.grid(row=5,column=3)\n",
    "checkbtn=Checkbutton(text='remember me?',variable=checkvalue,bg='black',font=\" ar 11\",fg='red')\n",
    "checkbtn.grid(row=6,column=3)\n",
    "Button(text='Submit',command=getvals,bg='black',fg='red',font=\" ar 10\").grid(row=7,column=3)\n",
    "\n",
    "root.mainloop()"
   ]
  },
  {
   "cell_type": "code",
   "execution_count": null,
   "id": "b3cee1ec",
   "metadata": {},
   "outputs": [],
   "source": []
  },
  {
   "cell_type": "code",
   "execution_count": null,
   "id": "57eb785f",
   "metadata": {},
   "outputs": [],
   "source": []
  }
 ],
 "metadata": {
  "kernelspec": {
   "display_name": "Python 3",
   "language": "python",
   "name": "python3"
  },
  "language_info": {
   "codemirror_mode": {
    "name": "ipython",
    "version": 3
   },
   "file_extension": ".py",
   "mimetype": "text/x-python",
   "name": "python",
   "nbconvert_exporter": "python",
   "pygments_lexer": "ipython3",
   "version": "3.8.7"
  }
 },
 "nbformat": 4,
 "nbformat_minor": 5
}
